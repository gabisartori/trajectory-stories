{
 "cells": [
  {
   "cell_type": "code",
   "execution_count": 1,
   "metadata": {},
   "outputs": [],
   "source": [
    "import nltk\n",
    "import pandas as pd"
   ]
  },
  {
   "cell_type": "code",
   "execution_count": 9,
   "metadata": {},
   "outputs": [
    {
     "data": {
      "text/plain": [
       "array([25, 24, 23, 22, 21, 20, 19, 18, 17, 16, 15, 14, 13, 12, 11, 10,  9,\n",
       "        8,  7,  6,  5,  4,  3,  2,  1,  0])"
      ]
     },
     "execution_count": 9,
     "metadata": {},
     "output_type": "execute_result"
    }
   ],
   "source": [
    "df = pd.read_html(\"datasets/pisa_clustered_df_with_caption_blip2.html\")[0]\n",
    "df = df.set_index(\"Unnamed: 0\")"
   ]
  },
  {
   "cell_type": "code",
   "execution_count": 3,
   "metadata": {},
   "outputs": [],
   "source": [
    "cluster_dists = [0]*(df.cluster.max()+1)\n",
    "for cluster_n in df.cluster.unique():\n",
    "    descriptions = df[df.cluster == cluster_n].caption.str.split(expand=True).stack()\n",
    "    \n",
    "    descriptions_dist = nltk.FreqDist(descriptions)\n",
    "    cluster_dists[cluster_n] = descriptions_dist\n",
    "\n",
    "# Cluster captions\n",
    "caption_distributions = [0]*(df.cluster.max()+1)\n",
    "for cluster_n in df.cluster.unique():\n",
    "    caption_distributions[cluster_n] = nltk.FreqDist(df[df.cluster == cluster_n].caption)"
   ]
  },
  {
   "cell_type": "code",
   "execution_count": 8,
   "metadata": {},
   "outputs": [
    {
     "name": "stdout",
     "output_type": "stream",
     "text": [
      "the city of bologna, italy\\n : 3\n",
      "the cathedral of pisa\\n : 3\n",
      "the leaning tower of pisa\\n : 3\n",
      "the start of the race\\n : 2\n",
      "==========\n",
      "city : 9\n",
      "pisa\\n : 7\n",
      "italy\\n : 6\n",
      "cathedral : 6\n",
      "tower : 5\n",
      "bell : 4\n",
      "leaning : 4\n",
      "start : 3\n",
      "bologna, : 3\n",
      "pisa : 3\n"
     ]
    }
   ],
   "source": [
    "# Cluster individual words\n",
    "cluster_n = 25\n",
    "word_dist = cluster_dists[cluster_n]\n",
    "caption_dist = caption_distributions[cluster_n]\n",
    "for caption, freq in caption_dist.most_common():\n",
    "    if freq > 1:\n",
    "        print(caption, \":\", freq)\n",
    "print(\"=\"*10)\n",
    "for word, freq in word_dist.most_common():\n",
    "    if freq > 2 and word not in nltk.corpus.stopwords.words('english'):\n",
    "        print(word, \":\", freq)\n",
    "\n"
   ]
  },
  {
   "cell_type": "markdown",
   "metadata": {},
   "source": [
    "##### Cluster 0\n",
    "A costal region with people at the beach and the streets nearby.\n",
    "\n",
    "##### Cluster 1\n",
    "A barn where groups of people gather to host events and spend time. There are open areas where sports are played and covered areas where people can eat and gather.\n",
    "\n",
    "##### Cluster 2\n",
    "An area mainly formed by natural parks, with many trees, animals, lakes, and also visited at sunset. The area is also used for doing photo shoots as well as walking.\n",
    "\n",
    "##### Cluster 3\n",
    "A building in which an event focused on LEGO took place. There are many uniformed people and lots of different scenarios built with LEGO pieces.\n",
    "\n",
    "##### Cluster 4\n",
    "An area father away from the city center, where the countryside landscape can be seen at the background.     \n",
    "\n",
    "##### Cluster 5\n",
    "A busy train station. (Most of the photos are of the same train and they were taken from the station as it departed)\n",
    "\n",
    "##### Cluster 6 \n",
    "An area where there are several tourist attractions (graffiti, churches, museums, statues), among which a colourful mural covering the whole wall of a building stands out. Markets are held in the area, including during the Christmas holidays. In addition, there are several cafes and restaurants, where you can eat anything from a pastry to risotto.\n",
    "\n",
    "##### Cluster 7\n",
    "An area around a river, around which there are buildings, visited by people throughout the day. The main attraction, besides the river, is a church built closed to the river.\n",
    "\n",
    "##### Cluster 8\n",
    "An area of the old city where the main attractions are historic buildings, churches and statues. Sometimes there are markets and association meetings.\n",
    "\n",
    "##### Cluster 9\n",
    "An area of the old city where there are markets and places to eat, like trucks.\n",
    "\n",
    "##### Cluster 10\n",
    "An area around the river where there are bridges and narrow alleys. Markets take place, people walk down the streets. Among the main attractions are churches and statues. Various services (food, newspapers, buses) can be found in the area.\n",
    "\n",
    "##### Cluster 11\n",
    "A thematic cafe. The main attraction is the decoration, which is based on famous writings and books available for the public to read while eating and drinking.\n",
    "\n",
    "##### Cluster 12\n",
    "The leaning tower of Pisa and the cathedral. (Many pictures feature turists but the captions don't mention it)\n",
    "\n",
    "##### Cluster 13\n",
    "A church with many pieces of art inside. There are lots of paintings on the walls and statues of people. There building architecture is also very detailed.\n",
    "\n",
    "##### Cluster 14\n",
    "A church with many statues inside. (This one is kinda messy)\n",
    "\n",
    "##### Cluster 15\n",
    "The interior of the same church, with as many statues, sculptures and other pieces of art.\n",
    "\n",
    "##### Cluster 16\n",
    "A museum near the tower of Pisa. The museum features historical and religious works of art. There are sculptures and paintings. \n",
    "\n",
    "##### Cluster 17 (Same as 12)\n",
    "The leaning tower of Pisa and the cathedral. (Many pictures feature turists but the captions don't mention it)\n",
    "\n",
    "##### Cluster 18 (Most of the descriptions seem off, calling the battistero the leaning tower of Pisa)\n",
    "The leaning tower of Pisa and the cathedral. Also, the interior of a church, with many stained glass windows.\n",
    "\n",
    "##### Cluster 19\n",
    "The leaning tower of Pisa and the cathedral. (This time, the captions mention the turists a little)\n",
    "\n",
    "##### Cluster 20 (This one is huge, many descriptions name the city or place incorrectly)\n",
    "Many pictures seem to have been taken from somewhere else and the location defaulted to the tower of Pisa. However, there are many pictures from the area, be it from the inside of the outside of the tower and the cathedral.\n",
    "\n",
    "##### Cluster 21\n",
    "Inside the cathedral of Pisa\n",
    "\n",
    "##### Cluster 22 (Same as 21)\n",
    "Inside the cathedral of Pisa\n",
    "\n",
    "##### Cluster 23 (This cluster should be the same as 21 and 22, but the descriptions are different)\n",
    "The cathedral and the leaning tower of Pisa\n",
    "\n",
    "##### Cluster 24\n",
    "the leaning tower of pisa: 66\n",
    "the leaning tower of pisa at night: 11\n",
    "the leaning tower of pisa at sunset: 4\n",
    "\n",
    "##### Cluster 25\n",
    "Should be the leaning tower of Pisa, but the descriptions are off.\n"
   ]
  }
 ],
 "metadata": {
  "kernelspec": {
   "display_name": "Python 3",
   "language": "python",
   "name": "python3"
  },
  "language_info": {
   "codemirror_mode": {
    "name": "ipython",
    "version": 3
   },
   "file_extension": ".py",
   "mimetype": "text/x-python",
   "name": "python",
   "nbconvert_exporter": "python",
   "pygments_lexer": "ipython3",
   "version": "3.10.12"
  }
 },
 "nbformat": 4,
 "nbformat_minor": 2
}
