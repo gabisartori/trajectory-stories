{
 "cells": [
  {
   "cell_type": "code",
   "execution_count": null,
   "metadata": {},
   "outputs": [],
   "source": [
    "import geopandas as gpd\n",
    "import pandas as pd\n",
    "from sklearn.cluster import HDBSCAN"
   ]
  },
  {
   "cell_type": "code",
   "execution_count": null,
   "metadata": {},
   "outputs": [],
   "source": [
    "df = pd.read_csv(\"datasets/dataset_pisa.csv\")\n",
    "gdf = gpd.GeoDataFrame(df,geometry=gpd.points_from_xy(df.lon,df.lat), crs=\"EPSG:4326\")"
   ]
  },
  {
   "cell_type": "code",
   "execution_count": null,
   "metadata": {},
   "outputs": [],
   "source": [
    "hdb = HDBSCAN(min_cluster_size=28)\n",
    "cluster = hdb.fit(gdf[[\"lat\", \"lon\"]])\n",
    "gdf[\"cluster\"] = cluster.labels_\n",
    "# Put outliers at the end\n",
    "gdf = gdf.sort_values(by=\"cluster\", ascending=False)\n",
    "gdf.to_csv(\"datasets/dataset_pisa_clustered.csv\", index=False)"
   ]
  }
 ],
 "metadata": {
  "kernelspec": {
   "display_name": "Python 3",
   "language": "python",
   "name": "python3"
  },
  "language_info": {
   "codemirror_mode": {
    "name": "ipython",
    "version": 3
   },
   "file_extension": ".py",
   "mimetype": "text/x-python",
   "name": "python",
   "nbconvert_exporter": "python",
   "pygments_lexer": "ipython3",
   "version": "3.10.12"
  },
  "orig_nbformat": 4
 },
 "nbformat": 4,
 "nbformat_minor": 2
}
